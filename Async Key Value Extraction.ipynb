{
 "cells": [
  {
   "cell_type": "markdown",
   "id": "21100ebf",
   "metadata": {},
   "source": [
    "# AWS Textract Key Value Pairs\n",
    "\n",
    "This example helps in identifying Key value pairs from multi-page PDFs using the Asynchronous API StartDocumentAnalysis. \n"
   ]
  },
  {
   "cell_type": "code",
   "execution_count": null,
   "id": "da2d6d2b",
   "metadata": {},
   "outputs": [],
   "source": [
    "# We would need to install the TRP module\n",
    "!pip install amazon-textract-response-parser\n",
    "import trp\n"
   ]
  },
  {
   "cell_type": "code",
   "execution_count": null,
   "id": "e3d80b40",
   "metadata": {},
   "outputs": [],
   "source": [
    "import boto3 \n",
    "\n",
    "# Amazon Textract client\n",
    "textract = boto3.client('textract')\n",
    "\n",
    "# Call Amazon Textract\n",
    "\n",
    "s3_bucket_name = \"s3-read-test\"\n",
    "document_name = \"OptusBill23Feb2023.pdf\"\n",
    "\n",
    "text_analysis =textract.start_document_analysis(\n",
    "    DocumentLocation=\n",
    "    {'S3Object': {\n",
    "        'Bucket': s3_bucket_name, \n",
    "        'Name': document_name}},\n",
    "    FeatureTypes=['FORMS', 'TABLES']\n",
    ") \n",
    "\n",
    "job_id = text_analysis[\"JobId\"]\n",
    "job_id "
   ]
  },
  {
   "cell_type": "code",
   "execution_count": null,
   "id": "9bcebe96",
   "metadata": {},
   "outputs": [],
   "source": [
    "job_response = textract.get_document_analysis(\n",
    "        JobId=job_id\n",
    "    )\n",
    "\n",
    "nextToken = None\n",
    "if('NextToken' in job_response):\n",
    "    nextToken = job_response['NextToken']\n",
    "while(nextToken):\n",
    "    response = textract.get_document_analysis(JobId=job_id, NextToken=nextToken)\n",
    "    job_response['Blocks'].extend(response['Blocks'])\n",
    "    nextToken = None\n",
    "    if('NextToken' in response):\n",
    "        nextToken = response['NextToken']\n",
    "        \n",
    "doc_response = trp.Document(job_response)\n",
    "    "
   ]
  },
  {
   "cell_type": "code",
   "execution_count": null,
   "id": "295f9fb6",
   "metadata": {},
   "outputs": [],
   "source": [
    "detectedText = {}\n",
    "\n",
    "for page in doc_response.pages:\n",
    "    for field in page.form.fields:\n",
    "        if field.value:\n",
    "            detectedText[field.key.text] = field.value.text\n",
    "        else:\n",
    "            detectedText[field.key.text] = \"\"\n",
    "\n",
    "detectedText"
   ]
  },
  {
   "cell_type": "code",
   "execution_count": null,
   "id": "786badd5",
   "metadata": {},
   "outputs": [],
   "source": []
  },
  {
   "cell_type": "code",
   "execution_count": null,
   "id": "be3cd000",
   "metadata": {},
   "outputs": [],
   "source": []
  }
 ],
 "metadata": {
  "kernelspec": {
   "display_name": "conda_pytorch_p310",
   "language": "python",
   "name": "conda_pytorch_p310"
  },
  "language_info": {
   "codemirror_mode": {
    "name": "ipython",
    "version": 3
   },
   "file_extension": ".py",
   "mimetype": "text/x-python",
   "name": "python",
   "nbconvert_exporter": "python",
   "pygments_lexer": "ipython3",
   "version": "3.10.10"
  }
 },
 "nbformat": 4,
 "nbformat_minor": 5
}
